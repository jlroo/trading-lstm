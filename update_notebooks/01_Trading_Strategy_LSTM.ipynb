{
 "cells": [
  {
   "cell_type": "markdown",
   "metadata": {
    "colab_type": "text",
    "id": "myQ0VnH5Wbo-"
   },
   "source": [
    "# Trading Strategy for Finance using LSTMs"
   ]
  },
  {
   "cell_type": "markdown",
   "metadata": {
    "colab_type": "text",
    "id": "jvQyki84WbpB"
   },
   "source": [
    "## 1. Overview"
   ]
  },
  {
   "cell_type": "markdown",
   "metadata": {
    "colab_type": "text",
    "id": "Lc6vvYvqWbpC"
   },
   "source": [
    "This lab focuses on the prediction of time series  financial data using a special recurrent neural network (RNN), called Long Short Term Memory (LSTM), for trading strategies in finance. \n",
    "\n",
    "The goal of this lab is to give you a deep learning (DL) approach that can be potentially beneficial to the complex trading strategies in finance. This lab is not a complete trading strategy that generates a profit and loss curve (PNL). Rather, it shows how LSTM based deep neural networks can be applied to predict time series financial data. The code provided in this lab can be repurposed to predict the any time series financial data to be used to make certain decisions, opening a long position or closing a short position.\n",
    "\n",
    "DL has been disrupting many applications including computer vision, natural language processing, and there has been a flurry of research and development activities in different verticals of the industry such as healthcare and finance to exploit this new technology for the area specific use cases. DL based investment strategies are also in the center of research and development activities in the algorithmic trading. \n",
    "\n",
    "In this lab, it is assumed that you are familiar with RNNs, TensorFlow, and Python. For more information on RNNs, LSTMs, and TensorFlow, please check the relevant labs in DLI. "
   ]
  },
  {
   "cell_type": "markdown",
   "metadata": {
    "colab_type": "text",
    "id": "XUkQLzk4WbpD"
   },
   "source": [
    "## 2. Implementation of LSTM based Financial Data Predictor"
   ]
  },
  {
   "cell_type": "markdown",
   "metadata": {
    "colab_type": "text",
    "id": "lYZKWOk4WbpF"
   },
   "source": [
    "#### What is Long Short Term Memory (LSTM) Networks?\n",
    "\n",
    "LSTM is a variant of recurrent neural network (RNN) and was published by Hochreiter & Schmidhuber in 1997. RNNs are an extension of regular artificial neural networks that add connections feeding the hidden state of the neural network back into itself, these are called recurrent connections. The reason for adding these recurrent connections is to provide the network with visibility not just of the current data sample it has been provided, but also it's previous hidden state. In some sense, this gives the network a sequential memory of what it has seen before. This makes RNNs applicable in situations where a sequence of data (like in most of the financial data) is required to make a classification decision or regression estimate."
   ]
  },
  {
   "cell_type": "markdown",
   "metadata": {
    "colab_type": "text",
    "id": "7itpRDjxWbpG"
   },
   "source": [
    "<img src=\"../imgs/rnn.jpg?raw=1\" width=\"600\" height=\"600\">"
   ]
  },
  {
   "cell_type": "markdown",
   "metadata": {
    "colab_type": "text",
    "id": "wkf5qMRSWbpH"
   },
   "source": [
    "                                    Figure 1: Recurrent Neural Networks (RNNs)\n",
    "                                    \n",
    "LSTMs do not have vanishing gradient problems like in most of the RNNs. LSTM is normally augmented by recurrent gates called forget gates. As mentioned, a defining feature of the LSTM is that it prevents backpropagated errors from vanishing (or exploding) and instead allow errors to flow backwards through unlimited numbers of \"virtual layers\" unfolded in time. That is, the LSTM can learn \"very deep\" tasks that require memories of events that happened thousands or even millions of discrete time steps ago. Problem-specific LSTM-like topologies can be evolved and can work even when signals contain long delays or have a mix of low and high frequency components"
   ]
  },
  {
   "cell_type": "markdown",
   "metadata": {
    "colab_type": "text",
    "id": "RwS6ezPkWbpI"
   },
   "source": [
    "### a. Financial Terminologies\n",
    "\n",
    "Before we start running the code, we include some of the financial terminologies that we use in this lab. The definitions are taken directly from Investopedia.com.\n",
    "\n",
    "**Trading Strategy:** A set of objective rules defining the conditions that must be met for a trade entry and exit to occur. Trading strategies include specifications for trade entries, including trade filters and triggers, as well as rules for trade exits, money management, timeframes, order types, and other relevant information. A trading strategy, if based on quantifiably specifications, can be analyzed based on historical data to project future performance.\n",
    "\n",
    "**Instrument:** An instrument is a tradeable asset or negotiable item such as a security, commodity, derivative or index, or any item that underlies a derivative. An instrument is a means by which something of value is transferred, held or accomplished.\n",
    "\n",
    "**Security:** It is a fungible, negotiable financial instrument that holds some type of monetary value. It represents an ownership position in a publicly-traded corporation (via stock), a creditor relationship with a governmental body or a corporation (represented by owning that entity's bond), or rights to ownership as represented by an option.\n",
    "\n",
    "**Stock**: A stock is a type of security that signifies ownership in a corporation and represents a claim on part of the corporation's assets and earnings. It is delivered in the units of shares.\n",
    "\n",
    "**Share**: Shares are units of ownership interest in a corporation or financial asset.\n",
    "\n",
    "**Long Position (Long)**: A long (or long position) is the buying of a security such as a stock, commodity or currency with the expectation that the asset will rise in value. Trader normally has no plan to sell the security in the near future. A key component of long position investment is the ownership of the stock or bond.\n",
    "    \n",
    "**Short Position (Short)**: A short, or short position, is a directional trading or investment strategy where the investor sells shares of borrowed stock in the open market. The expectation of the investor is that the price of the stock will decrease over time, at which point the he will purchase the shares in the open market and return the shares to the broker which he borrowed them from.\n",
    "\n",
    "**Return**: A return is the gain or loss of a security in a particular period. The return consists of the income and the capital gains relative on an investment, and it is usually quoted as a percentage. The general rule is that the more risk you take, the greater the potential for higher returns and losses.\n",
    "\n",
    "**Fundamental Analysis:** It is a method of evaluating a security in an attempt to measure its intrinsic value, by examining related economic, financial and other qualitative and quantitative factors. Fundamental analysts study anything that can affect the security's value, including macroeconomic factors such as the overall economy and industry conditions, and microeconomic factors such as financial conditions and company management. For instance, for stocks and equity instruments, this method uses revenues, earnings, future growth, return on equity, profit margins and other data to determine a company's underlying value and potential for future growth.\n",
    "\n",
    "**Technical Analysis:** It is the evaluation of securities by means of studying statistics generated by market activity, such as past prices and volume. Technical analysts do not attempt to measure a security's intrinsic value but instead use stock charts to identify patterns and trends that may suggest what a stock will do in the future."
   ]
  },
  {
   "cell_type": "markdown",
   "metadata": {},
   "source": [
    "<img src=\"../imgs/LSTM3-chain.png?raw=1\" width=\"600\" height=\"600\">"
   ]
  },
  {
   "cell_type": "markdown",
   "metadata": {},
   "source": [
    "### b. Deep Learning Terminologies\n",
    "\n",
    "\n",
    "**Neural Network:** A set of algorithms, modeled loosely after the human brain that are designed to recognize patterns.\n",
    " \n",
    "**Layer:** A layer is the highest-level building block in deep learning made up by nodes. It usually receive a input weight matrix and transforms it with a set of nonlinear function and pass it to the next layer. Usually the more layer a neural layer has, the more information it can remember.\n",
    "Input, output, hidden\n",
    " \n",
    "**Weight:** Weight is the strength of the connection. The weight controls how much influence a certain input has on the output. \n",
    " \n",
    "**Node:**  A place where computation happens, combining input from the data with a set of coefficients.\n",
    " \n",
    "**Recurrent Neural Network(RNN):** A class of artificial neural network where connections between nodes form a directed graph. It different from other Neural Networks since it has sequential memories of what it has seen before.A recurrent neural network can be thought of as multiple copies of the same network, each passing a message to a successor. A loop allows information to be passed from one step of the network to the next.\n",
    "One disadvantage of RNN is that it fails to handle problems with long-term dependencies.  \n",
    " \n",
    "**Long Short Term Memory networks(LSTM):** A special kind of RNN. LSTM overcomes RNN’s disadvantage and is capable of learning long-term dependencies.\n",
    "LSTM has three different gates: Forget, Input, Update.\n",
    " \n",
    "**Back Propagation:** A technique that is used in artificial neural networks to calculate gradient that is needed to calculate weights used in the network. Back Propagation is used to train neural networks to achieve better accuracy.\n",
    " \n",
    "**Forward Propagation:** Passing the input into the neural networks to get a output matrix containing different probability to different categories.\n",
    " \n",
    "**Activation Function:**\n",
    "    The commonly used activation functions are linear, step, sigmoid, tanh, and rectified linear unit (ReLU) functions.\n",
    "    The weighted sum of the inputs produces an activation signal that is passed to the activation function to obtain an output from the neuron.\n",
    "Cost Function / Loss Function:\n",
    "    A method to evaluate how well your algorithm models your dataset. \n",
    "The output should be low if the prediction is close to the actual data and high otherwise. \n"
   ]
  },
  {
   "cell_type": "code",
   "execution_count": null,
   "metadata": {},
   "outputs": [],
   "source": []
  }
 ],
 "metadata": {
  "colab": {
   "collapsed_sections": [],
   "name": "Copy of 01-Trading_Strategy_LSTM.ipynb",
   "provenance": [],
   "version": "0.3.2"
  },
  "kernelspec": {
   "display_name": "Python 3",
   "language": "python",
   "name": "python3"
  },
  "language_info": {
   "codemirror_mode": {
    "name": "ipython",
    "version": 3
   },
   "file_extension": ".py",
   "mimetype": "text/x-python",
   "name": "python",
   "nbconvert_exporter": "python",
   "pygments_lexer": "ipython3",
   "version": "3.6.5"
  }
 },
 "nbformat": 4,
 "nbformat_minor": 1
}
